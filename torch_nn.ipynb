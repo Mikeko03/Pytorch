{
 "cells": [
  {
   "cell_type": "code",
   "execution_count": 1,
   "metadata": {},
   "outputs": [],
   "source": [
    "import torch\n",
    "import numpy as np"
   ]
  },
  {
   "cell_type": "code",
   "execution_count": 2,
   "metadata": {},
   "outputs": [],
   "source": [
    "from torch.utils.data import DataLoader"
   ]
  },
  {
   "cell_type": "code",
   "execution_count": 27,
   "metadata": {},
   "outputs": [],
   "source": [
    "a = torch.arange(20)"
   ]
  },
  {
   "cell_type": "code",
   "execution_count": 16,
   "metadata": {},
   "outputs": [],
   "source": [
    "b = torch.linspace(0,10,10,dtype=torch.float64)"
   ]
  },
  {
   "cell_type": "code",
   "execution_count": 17,
   "metadata": {},
   "outputs": [],
   "source": [
    "data_loader = DataLoader(b)"
   ]
  },
  {
   "cell_type": "code",
   "execution_count": 18,
   "metadata": {},
   "outputs": [
    {
     "name": "stdout",
     "output_type": "stream",
     "text": [
      "tensor([0.], dtype=torch.float64)\n",
      "tensor([1.1111], dtype=torch.float64)\n",
      "tensor([2.2222], dtype=torch.float64)\n",
      "tensor([3.3333], dtype=torch.float64)\n",
      "tensor([4.4444], dtype=torch.float64)\n",
      "tensor([5.5556], dtype=torch.float64)\n",
      "tensor([6.6667], dtype=torch.float64)\n",
      "tensor([7.7778], dtype=torch.float64)\n",
      "tensor([8.8889], dtype=torch.float64)\n",
      "tensor([10.], dtype=torch.float64)\n"
     ]
    }
   ],
   "source": [
    "for i in data_loader:\n",
    "    print(i)"
   ]
  },
  {
   "cell_type": "code",
   "execution_count": 28,
   "metadata": {},
   "outputs": [],
   "source": [
    "data_loader = DataLoader(a,batch_size=2)"
   ]
  },
  {
   "cell_type": "code",
   "execution_count": 30,
   "metadata": {},
   "outputs": [
    {
     "name": "stdout",
     "output_type": "stream",
     "text": [
      "Batch nr. 0: tensor([0, 1])\n",
      "Batch nr. 1: tensor([2, 3])\n",
      "Batch nr. 2: tensor([4, 5])\n",
      "Batch nr. 3: tensor([6, 7])\n",
      "Batch nr. 4: tensor([8, 9])\n",
      "Batch nr. 5: tensor([10, 11])\n",
      "Batch nr. 6: tensor([12, 13])\n",
      "Batch nr. 7: tensor([14, 15])\n",
      "Batch nr. 8: tensor([16, 17])\n",
      "Batch nr. 9: tensor([18, 19])\n"
     ]
    }
   ],
   "source": [
    "for i,data in enumerate(data_loader):\n",
    "    print(f\"Batch nr. {i}: {data}\")"
   ]
  },
  {
   "cell_type": "code",
   "execution_count": 31,
   "metadata": {},
   "outputs": [],
   "source": [
    "from torch.utils.data import TensorDataset"
   ]
  },
  {
   "cell_type": "code",
   "execution_count": 35,
   "metadata": {},
   "outputs": [],
   "source": [
    "t_x = torch.rand(5,3)\n",
    "t_y = torch.randint(2,(5,1))"
   ]
  },
  {
   "cell_type": "code",
   "execution_count": 38,
   "metadata": {},
   "outputs": [],
   "source": [
    "datas = TensorDataset(t_x,t_y)"
   ]
  },
  {
   "cell_type": "code",
   "execution_count": 37,
   "metadata": {},
   "outputs": [
    {
     "name": "stdout",
     "output_type": "stream",
     "text": [
      "x = tensor([[0.1902, 0.8041, 0.3415]]);  y = tensor([[0]])\n",
      "x = tensor([[0.8256, 0.9132, 0.3833]]);  y = tensor([[0]])\n",
      "x = tensor([[0.3079, 0.6710, 0.2495]]);  y = tensor([[0]])\n",
      "x = tensor([[0.3630, 0.5540, 0.8255]]);  y = tensor([[0]])\n",
      "x = tensor([[0.3911, 0.2913, 0.8452]]);  y = tensor([[1]])\n"
     ]
    }
   ],
   "source": [
    "data_l = DataLoader(datas)\n",
    "\n",
    "for x,y in data_l:\n",
    "    print(f\"x = {x};  y = {y}\")"
   ]
  },
  {
   "cell_type": "code",
   "execution_count": 41,
   "metadata": {},
   "outputs": [
    {
     "name": "stdout",
     "output_type": "stream",
     "text": [
      "x = tensor([[0.3630, 0.5540, 0.8255],\n",
      "        [0.3911, 0.2913, 0.8452]]); \n",
      "y = tensor([[0],\n",
      "        [1]])\n",
      "x = tensor([[0.1902, 0.8041, 0.3415],\n",
      "        [0.3079, 0.6710, 0.2495]]); \n",
      "y = tensor([[0],\n",
      "        [0]])\n",
      "x = tensor([[0.8256, 0.9132, 0.3833]]); \n",
      "y = tensor([[0]])\n"
     ]
    }
   ],
   "source": [
    "data_l = DataLoader(datas,batch_size=2,shuffle=True)\n",
    "\n",
    "for x,y in data_l:\n",
    "    print(f\"x = {x}; \\ny = {y}\")"
   ]
  },
  {
   "cell_type": "code",
   "execution_count": 42,
   "metadata": {},
   "outputs": [
    {
     "name": "stdout",
     "output_type": "stream",
     "text": [
      "Epoch 0\n",
      "x = tensor([[0.8256, 0.9132, 0.3833],\n",
      "        [0.1902, 0.8041, 0.3415]]); \n",
      "y = tensor([[0],\n",
      "        [0]])\n",
      "x = tensor([[0.3079, 0.6710, 0.2495],\n",
      "        [0.3630, 0.5540, 0.8255]]); \n",
      "y = tensor([[0],\n",
      "        [0]])\n",
      "x = tensor([[0.3911, 0.2913, 0.8452]]); \n",
      "y = tensor([[1]])\n",
      "Epoch 1\n",
      "x = tensor([[0.1902, 0.8041, 0.3415],\n",
      "        [0.3079, 0.6710, 0.2495]]); \n",
      "y = tensor([[0],\n",
      "        [0]])\n",
      "x = tensor([[0.3911, 0.2913, 0.8452],\n",
      "        [0.3630, 0.5540, 0.8255]]); \n",
      "y = tensor([[1],\n",
      "        [0]])\n",
      "x = tensor([[0.8256, 0.9132, 0.3833]]); \n",
      "y = tensor([[0]])\n"
     ]
    }
   ],
   "source": [
    "for epoch in range(2):\n",
    "    print(f\"Epoch {epoch}\")\n",
    "    for x,y in data_l:\n",
    "        print(f\"x = {x}; \\ny = {y}\")"
   ]
  },
  {
   "cell_type": "code",
   "execution_count": null,
   "metadata": {},
   "outputs": [],
   "source": []
  }
 ],
 "metadata": {
  "interpreter": {
   "hash": "954db84503e4be1de1e43dbb15f0ae94cd89c6ab9d73af458b5f1eaa877d12a0"
  },
  "kernelspec": {
   "display_name": "Python 3.8.12 ('DL_torch')",
   "language": "python",
   "name": "python3"
  },
  "language_info": {
   "codemirror_mode": {
    "name": "ipython",
    "version": 3
   },
   "file_extension": ".py",
   "mimetype": "text/x-python",
   "name": "python",
   "nbconvert_exporter": "python",
   "pygments_lexer": "ipython3",
   "version": "3.8.13"
  },
  "orig_nbformat": 4
 },
 "nbformat": 4,
 "nbformat_minor": 2
}
